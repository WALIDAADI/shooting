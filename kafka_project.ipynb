{
 "cells": [
  {
   "cell_type": "code",
   "execution_count": 7,
   "id": "64ea9eda",
   "metadata": {},
   "outputs": [],
   "source": [
    "#install kafa package\n",
    "#pip install kafka-python\n"
   ]
  },
  {
   "cell_type": "code",
   "execution_count": 8,
   "id": "c1587a11",
   "metadata": {},
   "outputs": [],
   "source": [
    "#install mongodb package\n",
    "#!pip install pymongo"
   ]
  },
  {
   "cell_type": "markdown",
   "id": "bc88fd69",
   "metadata": {},
   "source": [
    "###### Démarrer le serveur Kafka et créez un topic que vous utiliserez dans votre projet."
   ]
  },
  {
   "cell_type": "markdown",
   "id": "9e041fea",
   "metadata": {},
   "source": [
    "Producer (Producteur) - Envoyer des fichiers CSV à Kafka :"
   ]
  },
  {
   "cell_type": "code",
   "execution_count": 7,
   "id": "33f375e4",
   "metadata": {},
   "outputs": [],
   "source": [
    "from kafka import KafkaProducer\n",
    "import csv\n",
    "import json\n",
    "import mysql.connector"
   ]
  },
  {
   "cell_type": "code",
   "execution_count": 8,
   "id": "9d1558df",
   "metadata": {},
   "outputs": [],
   "source": [
    "# Configuration du producteur Kafka\n",
    "bootstrap_servers = 'localhost:9092'\n",
    "topic = 'news'\n",
    "\n",
    "producer = KafkaProducer(bootstrap_servers=bootstrap_servers,\n",
    "                         value_serializer=lambda v: json.dumps(v).encode('utf-8'))\n"
   ]
  },
  {
   "cell_type": "code",
   "execution_count": 9,
   "id": "012577cb",
   "metadata": {},
   "outputs": [],
   "source": [
    "# Fonction pour lire un fichier CSV et envoyer chaque ligne à Kafka\n",
    "# Définition de la fonction pour produire des lignes de fichier CSV vers Kafka\n",
    "def produce_csv_to_kafka(file_path):\n",
    "    # Ouvre le fichier CSV en mode lecture, en spécifiant l'encodage utf-8\n",
    "    with open(file_path, newline='', encoding='utf-8') as csvfile:\n",
    "        # Crée un objet DictReader pour lire le fichier CSV avec la première ligne comme en-têtes de colonnes\n",
    "        csv_reader = csv.DictReader(csvfile)\n",
    "        # Itère sur chaque ligne du fichier CSV\n",
    "        for row in csv_reader:\n",
    "            # Envoie la ligne actuelle à Kafka en utilisant le producteur\n",
    "            producer.send(topic, value=row)\n",
    "            # Force l'envoi immédiat du message à Kafka\n",
    "            producer.flush()\n"
   ]
  },
  {
   "cell_type": "code",
   "execution_count": 20,
   "id": "274dd95a",
   "metadata": {},
   "outputs": [],
   "source": [
    "# Exemple d'utilisation\n",
    "file_path=\"C:\\\\Users\\\\user\\\\Anaconda-Files\\\\EUR1H.csv\"\n",
    "produce_csv_to_kafka(file_path)"
   ]
  },
  {
   "cell_type": "markdown",
   "id": "ab216695",
   "metadata": {},
   "source": [
    "###### Démarer kafkaConsumer"
   ]
  },
  {
   "cell_type": "code",
   "execution_count": 32,
   "id": "e527b3ce",
   "metadata": {},
   "outputs": [],
   "source": [
    "from kafka import KafkaConsumer\n",
    "import json\n",
    "from datetime import datetime"
   ]
  },
  {
   "cell_type": "code",
   "execution_count": 18,
   "id": "c1a533b6",
   "metadata": {},
   "outputs": [],
   "source": [
    "# Remplacez ces valeurs par vos informations Kafka et MySQL\n",
    "KAFKA_BOOTSTRAP_SERVERS = 'localhost:9092'\n",
    "KAFKA_TOPIC = 'news'\n",
    "DB_USER = 'root'\n",
    "DB_PASSWORD = 'root'\n",
    "DB_NAME = 'entrepot'\n"
   ]
  },
  {
   "cell_type": "code",
   "execution_count": 26,
   "id": "ee88c2f2",
   "metadata": {},
   "outputs": [],
   "source": [
    "# Configuration du consommateur Kafka\n",
    "consumer = KafkaConsumer(KAFKA_TOPIC,\n",
    "                         bootstrap_servers=KAFKA_BOOTSTRAP_SERVERS,\n",
    "                         value_deserializer=lambda v: json.loads(v.decode('utf-8')),\n",
    "                         auto_offset_reset='earliest')  # Ajoutez cette option pour récupérer les messages depuis le début"
   ]
  },
  {
   "cell_type": "code",
   "execution_count": 27,
   "id": "8d764531",
   "metadata": {},
   "outputs": [],
   "source": [
    "# Configuration de la base de données MySQL\n",
    "db_conn = mysql.connector.connect(host='localhost', user=DB_USER, password=DB_PASSWORD, database=DB_NAME)\n",
    "db_cursor = db_conn.cursor()\n"
   ]
  },
  {
   "cell_type": "code",
   "execution_count": 33,
   "id": "868a2010",
   "metadata": {},
   "outputs": [],
   "source": [
    "\n",
    "try:\n",
    "    # Consommation des cinq premiers messages Kafka et insertion dans MySQL\n",
    "    count = 0\n",
    "    for message in consumer:\n",
    "        data = message.value\n",
    "\n",
    "   # Convertir la chaîne de date en format MySQL\n",
    "        gmt_value = data.get('Gmt time', '')\n",
    "        if gmt_value:\n",
    "            gmt_datetime = datetime.strptime(gmt_value, '%d.%m.%Y %H:%M:%S.%f')\n",
    "            gmt_mysql_format = gmt_datetime.strftime('%Y-%m-%d %H:%M:%S')\n",
    "            insert_query = f\"INSERT INTO news (Gmt, open, high, low, close, volume) VALUES ('{gmt_mysql_format}', {data.get('Open', 0)}, {data.get('High', 0)}, {data.get('Low', 0)}, {data.get('Close', 0)}, {data.get('Volume', 0)})\"\n",
    "            db_cursor.execute(insert_query)\n",
    "            db_conn.commit()\n",
    "\n",
    "        count += 1\n",
    "        if count >= 5:\n",
    "            break  # Sortir de la boucle après avoir consommé les cinq premiers messages\n",
    "\n",
    "except KeyboardInterrupt:\n",
    "    print(\"L'exécution a été interrompue manuellement.\")\n",
    "\n",
    "# Fermeture des connexions\n",
    "db_cursor.close()\n",
    "db_conn.close()\n"
   ]
  },
  {
   "cell_type": "markdown",
   "id": "da9eaa15",
   "metadata": {},
   "source": [
    "###### inserer un ligne avec python"
   ]
  },
  {
   "cell_type": "code",
   "execution_count": 6,
   "id": "df5b2261",
   "metadata": {},
   "outputs": [
    {
     "name": "stdout",
     "output_type": "stream",
     "text": [
      "La ligne a été insérée avec succès dans la table 'news' en utilisant une requête simple INSERT.\n"
     ]
    }
   ],
   "source": [
    "# Configuration de la connexion à MySQL\n",
    "from datetime import datetime\n",
    "# Connexion à la base de données MySQL\n",
    "conn = mysql.connector.connect(host='localhost', user='root', password='root', database='entrepot')\n",
    "cursor = conn.cursor()\n",
    "\n",
    "# Données à insérer\n",
    "date_time = datetime.strptime('08.07.2020 02:00:00.000', '%d.%m.%Y %H:%M:%S.%f')\n",
    "open_value = 1.12719\n",
    "high_value = 1.12796\n",
    "low_value = 1.12709\n",
    "close_value = 1.12786\n",
    "volume_value = 3594.1399\n",
    "\n",
    "# Requête SQL d'insertion\n",
    "insert_query = f\"INSERT INTO news (Gmt,open, high, low, close, volume) VALUES ('{date_time}', {open_value}, {high_value}, {low_value}, {close_value}, {volume_value})\"\n",
    "\n",
    "# Exécution de la requête\n",
    "cursor.execute(insert_query)\n",
    "\n",
    "# Commit des changements\n",
    "conn.commit()\n",
    "\n",
    "# Fermeture des connexions\n",
    "cursor.close()\n",
    "conn.close()\n",
    "\n",
    "print(\"La ligne a été insérée avec succès dans la table 'news' en utilisant une requête simple INSERT.\")"
   ]
  },
  {
   "cell_type": "code",
   "execution_count": null,
   "id": "416602dd",
   "metadata": {},
   "outputs": [],
   "source": [
    "\n"
   ]
  },
  {
   "cell_type": "code",
   "execution_count": null,
   "id": "ed03d734",
   "metadata": {},
   "outputs": [],
   "source": [
    "\n"
   ]
  },
  {
   "cell_type": "code",
   "execution_count": null,
   "id": "85f4e490",
   "metadata": {},
   "outputs": [],
   "source": []
  },
  {
   "cell_type": "code",
   "execution_count": null,
   "id": "b100f45f",
   "metadata": {},
   "outputs": [],
   "source": []
  }
 ],
 "metadata": {
  "kernelspec": {
   "display_name": "Python 3 (ipykernel)",
   "language": "python",
   "name": "python3"
  },
  "language_info": {
   "codemirror_mode": {
    "name": "ipython",
    "version": 3
   },
   "file_extension": ".py",
   "mimetype": "text/x-python",
   "name": "python",
   "nbconvert_exporter": "python",
   "pygments_lexer": "ipython3",
   "version": "3.10.9"
  }
 },
 "nbformat": 4,
 "nbformat_minor": 5
}
